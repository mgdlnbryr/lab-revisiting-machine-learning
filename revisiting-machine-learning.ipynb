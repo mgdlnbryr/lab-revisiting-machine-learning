{
 "cells": [
  {
   "cell_type": "code",
   "execution_count": 1,
   "id": "2e7fa974",
   "metadata": {},
   "outputs": [],
   "source": [
    "import pandas as pd\n",
    "import numpy as np\n",
    "import matplotlib.pyplot as plt\n",
    "import seaborn as sns \n",
    "pd.set_option('display.max_columns', None)"
   ]
  },
  {
   "cell_type": "code",
   "execution_count": 2,
   "id": "6f1fe4da",
   "metadata": {},
   "outputs": [
    {
     "name": "stderr",
     "output_type": "stream",
     "text": [
      "/var/folders/_3/ddmt53hd7sg2f56xd7slc_t40000gn/T/ipykernel_16186/2510048271.py:1: DtypeWarning: Columns (8) have mixed types. Specify dtype option on import or set low_memory=False.\n",
      "  data = pd.read_csv('../learningSet.csv')\n"
     ]
    }
   ],
   "source": [
    "data = pd.read_csv('../learningSet.csv')"
   ]
  },
  {
   "cell_type": "code",
   "execution_count": 7,
   "id": "34515dc1",
   "metadata": {},
   "outputs": [
    {
     "name": "stdout",
     "output_type": "stream",
     "text": [
      "ODATEDW       0\n",
      "OSOURCE       0\n",
      "TCODE         0\n",
      "STATE         0\n",
      "ZIP           0\n",
      "           ... \n",
      "MDMAUD_R      0\n",
      "MDMAUD_F      0\n",
      "MDMAUD_A      0\n",
      "CLUSTER2    132\n",
      "GEOCODE2    132\n",
      "Length: 481, dtype: int64\n"
     ]
    }
   ],
   "source": [
    "#Check for null values in all the columns\n",
    "null_counts = data.isnull().sum()\n",
    "print(null_counts)"
   ]
  },
  {
   "cell_type": "code",
   "execution_count": 5,
   "id": "e2be42c3",
   "metadata": {},
   "outputs": [],
   "source": [
    "#Create a new empty list called drop_list. We will append to this list a set of columns to be droped later. Add the following columns to this:\n",
    "'''\n",
    "OSOURCE - symbol definitions not provided, too many categories\n",
    "ZIP - we are including state already\n",
    "'''\n",
    "drop_list = []\n",
    "drop_list.extend(['OSOURCE', 'ZIP'])\n"
   ]
  },
  {
   "cell_type": "code",
   "execution_count": 10,
   "id": "723b4ba9",
   "metadata": {},
   "outputs": [],
   "source": [
    "#Identify columns that over 85% missing values and add them to the previous list.\n",
    "\n",
    "missing_percentage = data.isnull().sum() / len(data)\n",
    "\n",
    "\n",
    "cols_over_85_percent_missing = missing_percentage[missing_percentage > 0.85].index\n",
    "\n",
    "\n",
    "drop_list.extend(cols_over_85_percent_missing)\n",
    "\n"
   ]
  },
  {
   "cell_type": "code",
   "execution_count": 11,
   "id": "c3e16500",
   "metadata": {},
   "outputs": [],
   "source": [
    "#Remove the columns included in the drop_list from the dataframe\n",
    "data.drop(columns=drop_list, inplace=True)"
   ]
  },
  {
   "cell_type": "code",
   "execution_count": 16,
   "id": "b81a50e8",
   "metadata": {},
   "outputs": [
    {
     "name": "stdout",
     "output_type": "stream",
     "text": [
      "F        51277\n",
      "M        39094\n",
      "other     5041\n",
      "Name: GENDER, dtype: int64\n",
      "F        51277\n",
      "M        39094\n",
      "other     5041\n",
      "Name: GENDER, dtype: int64\n"
     ]
    }
   ],
   "source": [
    "#Now, reduce the number of categories in the column GENDER. The column should only have either \"M\" for males, \"F\" for females, and \"other\" for all the rest\n",
    "'''\n",
    "Note that there are a few null values in the column. We will first replace those null values using the code below:\n",
    "print(categorical['GENDER'].value_counts())\n",
    "categorical['GENDER'] = categorical['GENDER'].fillna('F')\n",
    "'''\n",
    "\n",
    "print(data['GENDER'].value_counts())\n",
    "data['GENDER'] = data['GENDER'].fillna('F')\n",
    "\n",
    "\n",
    "data['GENDER'] = data['GENDER'].map(lambda x: 'M' if x == 'M' else 'F' if x == 'F' else 'other')\n",
    "\n",
    "print(data['GENDER'].value_counts())"
   ]
  }
 ],
 "metadata": {
  "kernelspec": {
   "display_name": "Python 3 (ipykernel)",
   "language": "python",
   "name": "python3"
  },
  "language_info": {
   "codemirror_mode": {
    "name": "ipython",
    "version": 3
   },
   "file_extension": ".py",
   "mimetype": "text/x-python",
   "name": "python",
   "nbconvert_exporter": "python",
   "pygments_lexer": "ipython3",
   "version": "3.10.9"
  }
 },
 "nbformat": 4,
 "nbformat_minor": 5
}
